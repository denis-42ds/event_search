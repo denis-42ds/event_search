{
 "cells": [
  {
   "cell_type": "markdown",
   "id": "a6b338d7-2ae9-40de-a3be-3799313b59fd",
   "metadata": {},
   "source": [
    "## Настройка рабочей среды"
   ]
  },
  {
   "cell_type": "code",
   "execution_count": 46,
   "id": "6e00dff2-da6b-4640-8c3e-b4682e45ed4e",
   "metadata": {},
   "outputs": [],
   "source": [
    "# !pip install pandas"
   ]
  },
  {
   "cell_type": "code",
   "execution_count": 3,
   "id": "0fd19059-ee53-48f3-956e-61cfcf425888",
   "metadata": {},
   "outputs": [],
   "source": [
    "import pandas as pd"
   ]
  },
  {
   "cell_type": "markdown",
   "id": "6554a8c2-755e-4bb6-91f1-01ef17ae595c",
   "metadata": {},
   "source": [
    "## Загрузка и исследование данных"
   ]
  },
  {
   "cell_type": "code",
   "execution_count": 4,
   "id": "92e69cfc-22d7-4b75-92c2-40f2f4d7c065",
   "metadata": {},
   "outputs": [],
   "source": [
    "data = pd.read_csv('data/tether_2024.csv')"
   ]
  },
  {
   "cell_type": "code",
   "execution_count": 5,
   "id": "975b08bf-2392-4ce0-bf74-6b77a35ad165",
   "metadata": {},
   "outputs": [
    {
     "name": "stdout",
     "output_type": "stream",
     "text": [
      "<class 'pandas.core.frame.DataFrame'>\n",
      "RangeIndex: 106046 entries, 0 to 106045\n",
      "Data columns (total 10 columns):\n",
      " #   Column             Non-Null Count   Dtype  \n",
      "---  ------             --------------   -----  \n",
      " 0   block_number       106046 non-null  int64  \n",
      " 1   log_index          106046 non-null  int64  \n",
      " 2   transaction_index  106046 non-null  int64  \n",
      " 3   removed            106046 non-null  object \n",
      " 4   address            106046 non-null  object \n",
      " 5   topic_0            106046 non-null  object \n",
      " 6   topic_1            106000 non-null  object \n",
      " 7   topic_2            106000 non-null  object \n",
      " 8   topic_3            0 non-null       float64\n",
      " 9   data               106046 non-null  object \n",
      "dtypes: float64(1), int64(3), object(6)\n",
      "memory usage: 8.1+ MB\n"
     ]
    },
    {
     "data": {
      "text/html": [
       "<div>\n",
       "<style scoped>\n",
       "    .dataframe tbody tr th:only-of-type {\n",
       "        vertical-align: middle;\n",
       "    }\n",
       "\n",
       "    .dataframe tbody tr th {\n",
       "        vertical-align: top;\n",
       "    }\n",
       "\n",
       "    .dataframe thead th {\n",
       "        text-align: right;\n",
       "    }\n",
       "</style>\n",
       "<table border=\"1\" class=\"dataframe\">\n",
       "  <thead>\n",
       "    <tr style=\"text-align: right;\">\n",
       "      <th></th>\n",
       "      <th>block_number</th>\n",
       "      <th>log_index</th>\n",
       "      <th>transaction_index</th>\n",
       "      <th>removed</th>\n",
       "      <th>address</th>\n",
       "      <th>topic_0</th>\n",
       "      <th>topic_1</th>\n",
       "      <th>topic_2</th>\n",
       "      <th>topic_3</th>\n",
       "      <th>data</th>\n",
       "    </tr>\n",
       "  </thead>\n",
       "  <tbody>\n",
       "    <tr>\n",
       "      <th>0</th>\n",
       "      <td>18908896</td>\n",
       "      <td>206</td>\n",
       "      <td>115</td>\n",
       "      <td>f</td>\n",
       "      <td>0xdac17f958d2ee523a2206206994597c13d831ec7</td>\n",
       "      <td>0xddf252ad1be2c89b69c2b068fc378daa952ba7f163c4...</td>\n",
       "      <td>0x000000000000000000000000fb26e83e8f8ae76a9932...</td>\n",
       "      <td>0x000000000000000000000000a8131a4ba4beac80f9f6...</td>\n",
       "      <td>NaN</td>\n",
       "      <td>0x00000000000000000000000000000000000000000000...</td>\n",
       "    </tr>\n",
       "    <tr>\n",
       "      <th>1</th>\n",
       "      <td>18908901</td>\n",
       "      <td>209</td>\n",
       "      <td>136</td>\n",
       "      <td>f</td>\n",
       "      <td>0xdac17f958d2ee523a2206206994597c13d831ec7</td>\n",
       "      <td>0xddf252ad1be2c89b69c2b068fc378daa952ba7f163c4...</td>\n",
       "      <td>0x00000000000000000000000063b365dcdcdda8ae497a...</td>\n",
       "      <td>0x00000000000000000000000072d41935c280336fa012...</td>\n",
       "      <td>NaN</td>\n",
       "      <td>0x00000000000000000000000000000000000000000000...</td>\n",
       "    </tr>\n",
       "    <tr>\n",
       "      <th>2</th>\n",
       "      <td>18908902</td>\n",
       "      <td>94</td>\n",
       "      <td>56</td>\n",
       "      <td>f</td>\n",
       "      <td>0xdac17f958d2ee523a2206206994597c13d831ec7</td>\n",
       "      <td>0xddf252ad1be2c89b69c2b068fc378daa952ba7f163c4...</td>\n",
       "      <td>0x0000000000000000000000000589986f930c371b68d3...</td>\n",
       "      <td>0x00000000000000000000000036d955df2ac61efaee8d...</td>\n",
       "      <td>NaN</td>\n",
       "      <td>0x00000000000000000000000000000000000000000000...</td>\n",
       "    </tr>\n",
       "    <tr>\n",
       "      <th>3</th>\n",
       "      <td>18908903</td>\n",
       "      <td>270</td>\n",
       "      <td>112</td>\n",
       "      <td>f</td>\n",
       "      <td>0xdac17f958d2ee523a2206206994597c13d831ec7</td>\n",
       "      <td>0xddf252ad1be2c89b69c2b068fc378daa952ba7f163c4...</td>\n",
       "      <td>0x0000000000000000000000000d4a11d5eeaac28ec3f6...</td>\n",
       "      <td>0x0000000000000000000000009be960b301ce2463b690...</td>\n",
       "      <td>NaN</td>\n",
       "      <td>0x00000000000000000000000000000000000000000000...</td>\n",
       "    </tr>\n",
       "    <tr>\n",
       "      <th>4</th>\n",
       "      <td>18908905</td>\n",
       "      <td>98</td>\n",
       "      <td>58</td>\n",
       "      <td>f</td>\n",
       "      <td>0xdac17f958d2ee523a2206206994597c13d831ec7</td>\n",
       "      <td>0xddf252ad1be2c89b69c2b068fc378daa952ba7f163c4...</td>\n",
       "      <td>0x0000000000000000000000008a33bf35dbf91b3bf5bb...</td>\n",
       "      <td>0x00000000000000000000000028c6c06298d514db0899...</td>\n",
       "      <td>NaN</td>\n",
       "      <td>0x00000000000000000000000000000000000000000000...</td>\n",
       "    </tr>\n",
       "  </tbody>\n",
       "</table>\n",
       "</div>"
      ],
      "text/plain": [
       "   block_number  log_index  transaction_index removed  \\\n",
       "0      18908896        206                115       f   \n",
       "1      18908901        209                136       f   \n",
       "2      18908902         94                 56       f   \n",
       "3      18908903        270                112       f   \n",
       "4      18908905         98                 58       f   \n",
       "\n",
       "                                      address  \\\n",
       "0  0xdac17f958d2ee523a2206206994597c13d831ec7   \n",
       "1  0xdac17f958d2ee523a2206206994597c13d831ec7   \n",
       "2  0xdac17f958d2ee523a2206206994597c13d831ec7   \n",
       "3  0xdac17f958d2ee523a2206206994597c13d831ec7   \n",
       "4  0xdac17f958d2ee523a2206206994597c13d831ec7   \n",
       "\n",
       "                                             topic_0  \\\n",
       "0  0xddf252ad1be2c89b69c2b068fc378daa952ba7f163c4...   \n",
       "1  0xddf252ad1be2c89b69c2b068fc378daa952ba7f163c4...   \n",
       "2  0xddf252ad1be2c89b69c2b068fc378daa952ba7f163c4...   \n",
       "3  0xddf252ad1be2c89b69c2b068fc378daa952ba7f163c4...   \n",
       "4  0xddf252ad1be2c89b69c2b068fc378daa952ba7f163c4...   \n",
       "\n",
       "                                             topic_1  \\\n",
       "0  0x000000000000000000000000fb26e83e8f8ae76a9932...   \n",
       "1  0x00000000000000000000000063b365dcdcdda8ae497a...   \n",
       "2  0x0000000000000000000000000589986f930c371b68d3...   \n",
       "3  0x0000000000000000000000000d4a11d5eeaac28ec3f6...   \n",
       "4  0x0000000000000000000000008a33bf35dbf91b3bf5bb...   \n",
       "\n",
       "                                             topic_2  topic_3  \\\n",
       "0  0x000000000000000000000000a8131a4ba4beac80f9f6...      NaN   \n",
       "1  0x00000000000000000000000072d41935c280336fa012...      NaN   \n",
       "2  0x00000000000000000000000036d955df2ac61efaee8d...      NaN   \n",
       "3  0x0000000000000000000000009be960b301ce2463b690...      NaN   \n",
       "4  0x00000000000000000000000028c6c06298d514db0899...      NaN   \n",
       "\n",
       "                                                data  \n",
       "0  0x00000000000000000000000000000000000000000000...  \n",
       "1  0x00000000000000000000000000000000000000000000...  \n",
       "2  0x00000000000000000000000000000000000000000000...  \n",
       "3  0x00000000000000000000000000000000000000000000...  \n",
       "4  0x00000000000000000000000000000000000000000000...  "
      ]
     },
     "execution_count": 5,
     "metadata": {},
     "output_type": "execute_result"
    }
   ],
   "source": [
    "data.info()\n",
    "data.head()"
   ]
  },
  {
   "cell_type": "markdown",
   "id": "622c55cf-6a33-4402-8838-c52afc9db4a7",
   "metadata": {},
   "source": [
    "Проверка дубликатов строк"
   ]
  },
  {
   "cell_type": "code",
   "execution_count": 33,
   "id": "a70e42ed-9e23-46d5-b8b1-afacebdccc88",
   "metadata": {},
   "outputs": [
    {
     "data": {
      "text/plain": [
       "0"
      ]
     },
     "execution_count": 33,
     "metadata": {},
     "output_type": "execute_result"
    }
   ],
   "source": [
    "data.duplicated().sum()"
   ]
  },
  {
   "cell_type": "markdown",
   "id": "0e7253db-f227-4d9c-9fdd-f2772003876f",
   "metadata": {},
   "source": [
    "Вывод количества уникальных значений"
   ]
  },
  {
   "cell_type": "code",
   "execution_count": 32,
   "id": "85b4aa02-4ff0-4abb-ab33-8087a011e062",
   "metadata": {},
   "outputs": [
    {
     "data": {
      "text/plain": [
       "block_number         91554\n",
       "log_index             1221\n",
       "transaction_index      499\n",
       "removed                  1\n",
       "address                  1\n",
       "topic_0                  6\n",
       "topic_1              51000\n",
       "topic_2              55636\n",
       "topic_3                  0\n",
       "data                 68137\n",
       "dtype: int64"
      ]
     },
     "execution_count": 32,
     "metadata": {},
     "output_type": "execute_result"
    }
   ],
   "source": [
    "# data['topic_0'].value_counts()\n",
    "data.nunique()"
   ]
  },
  {
   "cell_type": "markdown",
   "id": "d939b735-d588-468b-a09a-71507313d3f9",
   "metadata": {},
   "source": [
    "Удаление неинформативных признаков"
   ]
  },
  {
   "cell_type": "code",
   "execution_count": 50,
   "id": "8d51d9c5-ec01-4bf4-a716-e0722bcbc34f",
   "metadata": {},
   "outputs": [],
   "source": [
    "data.drop(['removed', 'address', 'topic_3'], axis=1, inplace=True)"
   ]
  },
  {
   "cell_type": "markdown",
   "id": "c1d51f4b-76df-41c8-8e66-04ea51a59c7d",
   "metadata": {},
   "source": [
    "Создание датафрейма с расшифровкой событий `topic_0`\n",
    "<br>Данные получены из базы данных сигнатур https://www.4byte.directory/"
   ]
  },
  {
   "cell_type": "code",
   "execution_count": 30,
   "id": "02252b3d-f5e5-4d91-92fd-87dc0a566f23",
   "metadata": {},
   "outputs": [
    {
     "data": {
      "text/html": [
       "<div>\n",
       "<style scoped>\n",
       "    .dataframe tbody tr th:only-of-type {\n",
       "        vertical-align: middle;\n",
       "    }\n",
       "\n",
       "    .dataframe tbody tr th {\n",
       "        vertical-align: top;\n",
       "    }\n",
       "\n",
       "    .dataframe thead th {\n",
       "        text-align: right;\n",
       "    }\n",
       "</style>\n",
       "<table border=\"1\" class=\"dataframe\">\n",
       "  <thead>\n",
       "    <tr style=\"text-align: right;\">\n",
       "      <th></th>\n",
       "      <th>topic_0</th>\n",
       "      <th>count</th>\n",
       "      <th>esd</th>\n",
       "    </tr>\n",
       "  </thead>\n",
       "  <tbody>\n",
       "    <tr>\n",
       "      <th>0</th>\n",
       "      <td>0xddf252ad1be2c89b69c2b068fc378daa952ba7f163c4...</td>\n",
       "      <td>100000</td>\n",
       "      <td>Transfer</td>\n",
       "    </tr>\n",
       "    <tr>\n",
       "      <th>1</th>\n",
       "      <td>0x8c5be1e5ebec7d5bd14f71427d1e84f3dd0314c0f7b2...</td>\n",
       "      <td>6000</td>\n",
       "      <td>Approval</td>\n",
       "    </tr>\n",
       "    <tr>\n",
       "      <th>2</th>\n",
       "      <td>0x42e160154868087d6bfdc0ca23d96a1c1cfa32f1b72b...</td>\n",
       "      <td>35</td>\n",
       "      <td>AddedBlackList</td>\n",
       "    </tr>\n",
       "    <tr>\n",
       "      <th>3</th>\n",
       "      <td>0xcb8241adb0c3fdb35b70c24ce35c5eb0c17af7431c99...</td>\n",
       "      <td>4</td>\n",
       "      <td>Issue(uint256)</td>\n",
       "    </tr>\n",
       "    <tr>\n",
       "      <th>4</th>\n",
       "      <td>0xd7e9ec6e6ecd65492dce6bf513cd6867560d49544421...</td>\n",
       "      <td>4</td>\n",
       "      <td>RemovedBlackList</td>\n",
       "    </tr>\n",
       "    <tr>\n",
       "      <th>5</th>\n",
       "      <td>0x61e6e66b0d6339b2980aecc6ccc0039736791f0ccde9...</td>\n",
       "      <td>3</td>\n",
       "      <td>DestroyedBlackFunds</td>\n",
       "    </tr>\n",
       "  </tbody>\n",
       "</table>\n",
       "</div>"
      ],
      "text/plain": [
       "                                             topic_0   count  \\\n",
       "0  0xddf252ad1be2c89b69c2b068fc378daa952ba7f163c4...  100000   \n",
       "1  0x8c5be1e5ebec7d5bd14f71427d1e84f3dd0314c0f7b2...    6000   \n",
       "2  0x42e160154868087d6bfdc0ca23d96a1c1cfa32f1b72b...      35   \n",
       "3  0xcb8241adb0c3fdb35b70c24ce35c5eb0c17af7431c99...       4   \n",
       "4  0xd7e9ec6e6ecd65492dce6bf513cd6867560d49544421...       4   \n",
       "5  0x61e6e66b0d6339b2980aecc6ccc0039736791f0ccde9...       3   \n",
       "\n",
       "                   esd  \n",
       "0             Transfer  \n",
       "1             Approval  \n",
       "2       AddedBlackList  \n",
       "3       Issue(uint256)  \n",
       "4     RemovedBlackList  \n",
       "5  DestroyedBlackFunds  "
      ]
     },
     "execution_count": 30,
     "metadata": {},
     "output_type": "execute_result"
    }
   ],
   "source": [
    "df = data['topic_0'].value_counts().reset_index()\n",
    "df.columns = ['topic_0', 'count']\n",
    "# df['topic_0'] = df['topic_0'].str[:10]\n",
    "esd_dict = {'0xddf252ad1be2c89b69c2b068fc378daa952ba7f163c4a11628f55a4df523b3ef': 'Transfer', \n",
    "            '0x8c5be1e5ebec7d5bd14f71427d1e84f3dd0314c0f7b2291e5b200ac8c7c3b925': 'Approval', \n",
    "            '0x42e160154868087d6bfdc0ca23d96a1c1cfa32f1b72ba9ba27b69b98a0d819dc': 'AddedBlackList',\n",
    "            '0xcb8241adb0c3fdb35b70c24ce35c5eb0c17af7431c99f827d44a445ca624176a': 'Issue(uint256)',\n",
    "            '0xd7e9ec6e6ecd65492dce6bf513cd6867560d49544421d0783ddf06e76c24470c': 'RemovedBlackList',\n",
    "            '0x61e6e66b0d6339b2980aecc6ccc0039736791f0ccde9ed512e789a7fbdd698c6': 'DestroyedBlackFunds'\n",
    "           }\n",
    "df['esd'] = df['topic_0'].map(esd_dict)\n",
    "df"
   ]
  },
  {
   "cell_type": "markdown",
   "id": "8ca74c39-e092-45fd-8091-22ef122a198e",
   "metadata": {},
   "source": [
    "Объединение датафреймов"
   ]
  },
  {
   "cell_type": "code",
   "execution_count": 54,
   "id": "6baa392d-9782-4fca-99dc-57c128dc812a",
   "metadata": {},
   "outputs": [],
   "source": [
    "merged_df = data.merge(df[['topic_0', 'esd']], how='left', on='topic_0')"
   ]
  },
  {
   "cell_type": "markdown",
   "id": "56a6b29b-85dd-4e23-ad80-47469a9af3f7",
   "metadata": {},
   "source": [
    "Вывод строк с интересующим значением `esd`"
   ]
  },
  {
   "cell_type": "code",
   "execution_count": 59,
   "id": "6f7e4e68-46b6-46de-8816-f3e946cc1bd3",
   "metadata": {},
   "outputs": [
    {
     "data": {
      "text/html": [
       "<div>\n",
       "<style scoped>\n",
       "    .dataframe tbody tr th:only-of-type {\n",
       "        vertical-align: middle;\n",
       "    }\n",
       "\n",
       "    .dataframe tbody tr th {\n",
       "        vertical-align: top;\n",
       "    }\n",
       "\n",
       "    .dataframe thead th {\n",
       "        text-align: right;\n",
       "    }\n",
       "</style>\n",
       "<table border=\"1\" class=\"dataframe\">\n",
       "  <thead>\n",
       "    <tr style=\"text-align: right;\">\n",
       "      <th></th>\n",
       "      <th>block_number</th>\n",
       "      <th>log_index</th>\n",
       "      <th>transaction_index</th>\n",
       "      <th>topic_0</th>\n",
       "      <th>topic_1</th>\n",
       "      <th>topic_2</th>\n",
       "      <th>data</th>\n",
       "      <th>esd</th>\n",
       "    </tr>\n",
       "  </thead>\n",
       "  <tbody>\n",
       "    <tr>\n",
       "      <th>6418</th>\n",
       "      <td>18934942</td>\n",
       "      <td>76</td>\n",
       "      <td>19</td>\n",
       "      <td>0xcb8241adb0c3fdb35b70c24ce35c5eb0c17af7431c99...</td>\n",
       "      <td>NaN</td>\n",
       "      <td>NaN</td>\n",
       "      <td>0x00000000000000000000000000000000000000000000...</td>\n",
       "      <td>Issue(uint256)</td>\n",
       "    </tr>\n",
       "    <tr>\n",
       "      <th>14641</th>\n",
       "      <td>18969950</td>\n",
       "      <td>113</td>\n",
       "      <td>23</td>\n",
       "      <td>0xcb8241adb0c3fdb35b70c24ce35c5eb0c17af7431c99...</td>\n",
       "      <td>NaN</td>\n",
       "      <td>NaN</td>\n",
       "      <td>0x00000000000000000000000000000000000000000000...</td>\n",
       "      <td>Issue(uint256)</td>\n",
       "    </tr>\n",
       "    <tr>\n",
       "      <th>82556</th>\n",
       "      <td>19269909</td>\n",
       "      <td>1</td>\n",
       "      <td>1</td>\n",
       "      <td>0xcb8241adb0c3fdb35b70c24ce35c5eb0c17af7431c99...</td>\n",
       "      <td>NaN</td>\n",
       "      <td>NaN</td>\n",
       "      <td>0x00000000000000000000000000000000000000000000...</td>\n",
       "      <td>Issue(uint256)</td>\n",
       "    </tr>\n",
       "    <tr>\n",
       "      <th>102133</th>\n",
       "      <td>19354073</td>\n",
       "      <td>93</td>\n",
       "      <td>35</td>\n",
       "      <td>0xcb8241adb0c3fdb35b70c24ce35c5eb0c17af7431c99...</td>\n",
       "      <td>NaN</td>\n",
       "      <td>NaN</td>\n",
       "      <td>0x00000000000000000000000000000000000000000000...</td>\n",
       "      <td>Issue(uint256)</td>\n",
       "    </tr>\n",
       "  </tbody>\n",
       "</table>\n",
       "</div>"
      ],
      "text/plain": [
       "        block_number  log_index  transaction_index  \\\n",
       "6418        18934942         76                 19   \n",
       "14641       18969950        113                 23   \n",
       "82556       19269909          1                  1   \n",
       "102133      19354073         93                 35   \n",
       "\n",
       "                                                  topic_0 topic_1 topic_2  \\\n",
       "6418    0xcb8241adb0c3fdb35b70c24ce35c5eb0c17af7431c99...     NaN     NaN   \n",
       "14641   0xcb8241adb0c3fdb35b70c24ce35c5eb0c17af7431c99...     NaN     NaN   \n",
       "82556   0xcb8241adb0c3fdb35b70c24ce35c5eb0c17af7431c99...     NaN     NaN   \n",
       "102133  0xcb8241adb0c3fdb35b70c24ce35c5eb0c17af7431c99...     NaN     NaN   \n",
       "\n",
       "                                                     data             esd  \n",
       "6418    0x00000000000000000000000000000000000000000000...  Issue(uint256)  \n",
       "14641   0x00000000000000000000000000000000000000000000...  Issue(uint256)  \n",
       "82556   0x00000000000000000000000000000000000000000000...  Issue(uint256)  \n",
       "102133  0x00000000000000000000000000000000000000000000...  Issue(uint256)  "
      ]
     },
     "execution_count": 59,
     "metadata": {},
     "output_type": "execute_result"
    }
   ],
   "source": [
    "merged_df[merged_df['esd'] == 'Issue(uint256)']"
   ]
  },
  {
   "cell_type": "code",
   "execution_count": 49,
   "id": "a4962f0c-48d6-4180-ad28-d736579fde80",
   "metadata": {},
   "outputs": [],
   "source": [
    "# data.drop('amount', axis=1, inplace=True)"
   ]
  },
  {
   "cell_type": "markdown",
   "id": "b6563083-678b-409e-a841-11fdce718f73",
   "metadata": {},
   "source": [
    "### Выводы и наблюдения\n",
    "- дубликатов строк не обнаружено;\n",
    "- в признаке `topic_3` нет записей;\n",
    "- в признаках `removed`, `address` по одному уникальному значению"
   ]
  }
 ],
 "metadata": {
  "kernelspec": {
   "display_name": "Python 3 (ipykernel)",
   "language": "python",
   "name": "python3"
  },
  "language_info": {
   "codemirror_mode": {
    "name": "ipython",
    "version": 3
   },
   "file_extension": ".py",
   "mimetype": "text/x-python",
   "name": "python",
   "nbconvert_exporter": "python",
   "pygments_lexer": "ipython3",
   "version": "3.10.12"
  }
 },
 "nbformat": 4,
 "nbformat_minor": 5
}
